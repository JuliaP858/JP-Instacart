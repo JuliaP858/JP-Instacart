{
 "cells": [
  {
   "cell_type": "code",
   "execution_count": null,
   "id": "b89a88a2-3efe-4c56-95ff-f858b59fad92",
   "metadata": {},
   "outputs": [],
   "source": [
    "#01.Importing libraries"
   ]
  },
  {
   "cell_type": "code",
   "execution_count": 1,
   "id": "d7c2b6df-1e77-4e83-a535-05ffe4f418fc",
   "metadata": {},
   "outputs": [],
   "source": [
    "# Import libraries \n",
    "import pandas as pd \n",
    "import numpy as np\n",
    "import os"
   ]
  },
  {
   "cell_type": "code",
   "execution_count": 3,
   "id": "1e00b79c-2bde-4aff-b655-8dacd9fada30",
   "metadata": {},
   "outputs": [],
   "source": [
    "# string\n",
    "path =r'/Users/juliapetke/Desktop/Career Foundry/Instacart Basket Analysis'"
   ]
  },
  {
   "cell_type": "code",
   "execution_count": 5,
   "id": "18a2e41d-7957-4719-b709-3fcef3b19249",
   "metadata": {},
   "outputs": [],
   "source": [
    "# import of Products.csv\n",
    "df_prods = pd.read_csv(os.path.join(path, '02 Data', 'Original Data', 'products.csv'), index_col = False)"
   ]
  },
  {
   "cell_type": "code",
   "execution_count": 7,
   "id": "ee25822a-360a-487a-b444-da817b8b60d6",
   "metadata": {},
   "outputs": [
    {
     "data": {
      "text/plain": [
       "(49693, 5)"
      ]
     },
     "execution_count": 7,
     "metadata": {},
     "output_type": "execute_result"
    }
   ],
   "source": [
    "df_prods.shape"
   ]
  },
  {
   "cell_type": "code",
   "execution_count": 9,
   "id": "e9300e82-8be6-4b11-8bf0-a16427f734bb",
   "metadata": {},
   "outputs": [],
   "source": [
    "# import of order.csv\n",
    "df_ords = pd.read_csv(os.path.join(path, '02 Data', 'Original Data', 'orders.csv'), index_col = False)\n"
   ]
  },
  {
   "cell_type": "code",
   "execution_count": 11,
   "id": "7c01d469-8c19-4729-a877-bcfd7e80aace",
   "metadata": {},
   "outputs": [
    {
     "data": {
      "text/plain": [
       "(3421083, 7)"
      ]
     },
     "execution_count": 11,
     "metadata": {},
     "output_type": "execute_result"
    }
   ],
   "source": [
    "df_ords.shape"
   ]
  },
  {
   "cell_type": "code",
   "execution_count": null,
   "id": "55c7e019-1965-4d1f-8168-fd2baf3c69f1",
   "metadata": {},
   "outputs": [],
   "source": []
  }
 ],
 "metadata": {
  "kernelspec": {
   "display_name": "Python 3 (ipykernel)",
   "language": "python",
   "name": "python3"
  },
  "language_info": {
   "codemirror_mode": {
    "name": "ipython",
    "version": 3
   },
   "file_extension": ".py",
   "mimetype": "text/x-python",
   "name": "python",
   "nbconvert_exporter": "python",
   "pygments_lexer": "ipython3",
   "version": "3.12.4"
  }
 },
 "nbformat": 4,
 "nbformat_minor": 5
}
